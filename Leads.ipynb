{
 "cells": [
  {
   "cell_type": "markdown",
   "id": "154c23fa-288e-47f2-9eed-f2d36d7cba44",
   "metadata": {},
   "source": [
    "## Feature Importance and Feature Selection Analysis"
   ]
  },
  {
   "cell_type": "code",
   "execution_count": 1,
   "id": "2946b2b7-f25f-45fd-a29e-15d5c5feea17",
   "metadata": {},
   "outputs": [],
   "source": [
    "import pandas as pd\n",
    "import matplotlib.pyplot as plt\n",
    "from sklearn.metrics import accuracy_score\n",
    "import numpy as np\n",
    "from sklearn.metrics import confusion_matrix, ConfusionMatrixDisplay"
   ]
  },
  {
   "cell_type": "markdown",
   "id": "43bf1df5-25f0-4fb0-a1b1-297eb7a13481",
   "metadata": {},
   "source": [
    "## Read Leads info"
   ]
  },
  {
   "cell_type": "code",
   "execution_count": 2,
   "id": "14b675b3-8d3d-4c18-9c07-c048ed193403",
   "metadata": {},
   "outputs": [
    {
     "name": "stderr",
     "output_type": "stream",
     "text": [
      "C:\\Users\\david.rodriguez\\AppData\\Local\\Temp\\ipykernel_12372\\828412929.py:1: DtypeWarning: Columns (17,45) have mixed types. Specify dtype option on import or set low_memory=False.\n",
      "  leads = pd.read_csv(\"Leads_Training.csv\")\n"
     ]
    },
    {
     "data": {
      "text/html": [
       "<div>\n",
       "<style scoped>\n",
       "    .dataframe tbody tr th:only-of-type {\n",
       "        vertical-align: middle;\n",
       "    }\n",
       "\n",
       "    .dataframe tbody tr th {\n",
       "        vertical-align: top;\n",
       "    }\n",
       "\n",
       "    .dataframe thead th {\n",
       "        text-align: right;\n",
       "    }\n",
       "</style>\n",
       "<table border=\"1\" class=\"dataframe\">\n",
       "  <thead>\n",
       "    <tr style=\"text-align: right;\">\n",
       "      <th></th>\n",
       "      <th>Employees</th>\n",
       "      <th>Pardot Score</th>\n",
       "      <th>ZI IT Department Budget</th>\n",
       "      <th>Converted Date</th>\n",
       "      <th>Converted Date (Month)</th>\n",
       "      <th>Created Date</th>\n",
       "      <th>Created Date (Month)</th>\n",
       "      <th>Lead Assigned Date</th>\n",
       "      <th>Lead Assigned Date (Month)</th>\n",
       "      <th>MQL Date</th>\n",
       "      <th>...</th>\n",
       "      <th>Last Activity</th>\n",
       "      <th>Last Modified Date</th>\n",
       "      <th>Pardot Last Activity</th>\n",
       "      <th>SQL Date</th>\n",
       "      <th>Account Engagement Campaign</th>\n",
       "      <th>Assign to RSD</th>\n",
       "      <th>Division</th>\n",
       "      <th>Department</th>\n",
       "      <th>Marketing Status</th>\n",
       "      <th>Partner Business Model Type</th>\n",
       "    </tr>\n",
       "  </thead>\n",
       "  <tbody>\n",
       "    <tr>\n",
       "      <th>0</th>\n",
       "      <td>0</td>\n",
       "      <td>0</td>\n",
       "      <td>0.0</td>\n",
       "      <td>11/4/2020</td>\n",
       "      <td>11.0</td>\n",
       "      <td>11/3/2020</td>\n",
       "      <td>11</td>\n",
       "      <td>NaN</td>\n",
       "      <td>NaN</td>\n",
       "      <td>NaN</td>\n",
       "      <td>...</td>\n",
       "      <td>NaN</td>\n",
       "      <td>2024-04-25T14:17:24.000Z</td>\n",
       "      <td>NaN</td>\n",
       "      <td>NaN</td>\n",
       "      <td>Website Tracking</td>\n",
       "      <td>False</td>\n",
       "      <td>NaN</td>\n",
       "      <td>Sales</td>\n",
       "      <td>NaN</td>\n",
       "      <td>Reseller</td>\n",
       "    </tr>\n",
       "    <tr>\n",
       "      <th>1</th>\n",
       "      <td>0</td>\n",
       "      <td>358</td>\n",
       "      <td>0.0</td>\n",
       "      <td>12/28/2020</td>\n",
       "      <td>12.0</td>\n",
       "      <td>12/16/2020</td>\n",
       "      <td>12</td>\n",
       "      <td>NaN</td>\n",
       "      <td>NaN</td>\n",
       "      <td>12/16/2020</td>\n",
       "      <td>...</td>\n",
       "      <td>NaN</td>\n",
       "      <td>2024-04-25T14:17:00.000Z</td>\n",
       "      <td>2020-12-28T22:05:07.000Z</td>\n",
       "      <td>NaN</td>\n",
       "      <td>Default Campaign</td>\n",
       "      <td>False</td>\n",
       "      <td>NaN</td>\n",
       "      <td>Sales</td>\n",
       "      <td>NaN</td>\n",
       "      <td>NaN</td>\n",
       "    </tr>\n",
       "    <tr>\n",
       "      <th>2</th>\n",
       "      <td>0</td>\n",
       "      <td>25</td>\n",
       "      <td>0.0</td>\n",
       "      <td>7/2/2021</td>\n",
       "      <td>7.0</td>\n",
       "      <td>6/22/2021</td>\n",
       "      <td>6</td>\n",
       "      <td>NaN</td>\n",
       "      <td>NaN</td>\n",
       "      <td>NaN</td>\n",
       "      <td>...</td>\n",
       "      <td>NaN</td>\n",
       "      <td>2024-04-25T14:17:13.000Z</td>\n",
       "      <td>NaN</td>\n",
       "      <td>NaN</td>\n",
       "      <td>Website Tracking</td>\n",
       "      <td>False</td>\n",
       "      <td>NaN</td>\n",
       "      <td>Sales</td>\n",
       "      <td>NaN</td>\n",
       "      <td>NaN</td>\n",
       "    </tr>\n",
       "    <tr>\n",
       "      <th>3</th>\n",
       "      <td>0</td>\n",
       "      <td>0</td>\n",
       "      <td>0.0</td>\n",
       "      <td>9/8/2021</td>\n",
       "      <td>9.0</td>\n",
       "      <td>8/31/2021</td>\n",
       "      <td>8</td>\n",
       "      <td>NaN</td>\n",
       "      <td>NaN</td>\n",
       "      <td>NaN</td>\n",
       "      <td>...</td>\n",
       "      <td>NaN</td>\n",
       "      <td>2023-12-13T20:58:59.000Z</td>\n",
       "      <td>NaN</td>\n",
       "      <td>NaN</td>\n",
       "      <td>Created within Salesforce - Prio 3</td>\n",
       "      <td>False</td>\n",
       "      <td>NaN</td>\n",
       "      <td>NaN</td>\n",
       "      <td>NaN</td>\n",
       "      <td>Reseller</td>\n",
       "    </tr>\n",
       "    <tr>\n",
       "      <th>4</th>\n",
       "      <td>0</td>\n",
       "      <td>105</td>\n",
       "      <td>0.0</td>\n",
       "      <td>9/13/2021</td>\n",
       "      <td>9.0</td>\n",
       "      <td>8/12/2020</td>\n",
       "      <td>8</td>\n",
       "      <td>NaN</td>\n",
       "      <td>NaN</td>\n",
       "      <td>8/11/2020</td>\n",
       "      <td>...</td>\n",
       "      <td>NaN</td>\n",
       "      <td>2024-04-25T14:16:01.000Z</td>\n",
       "      <td>NaN</td>\n",
       "      <td>NaN</td>\n",
       "      <td>AG: TFP LATAM Demo Series DTP Aug 18th</td>\n",
       "      <td>False</td>\n",
       "      <td>NaN</td>\n",
       "      <td>Sales</td>\n",
       "      <td>NaN</td>\n",
       "      <td>NaN</td>\n",
       "    </tr>\n",
       "  </tbody>\n",
       "</table>\n",
       "<p>5 rows × 49 columns</p>\n",
       "</div>"
      ],
      "text/plain": [
       "   Employees  Pardot Score  ZI IT Department Budget Converted Date  \\\n",
       "0          0             0                      0.0      11/4/2020   \n",
       "1          0           358                      0.0     12/28/2020   \n",
       "2          0            25                      0.0       7/2/2021   \n",
       "3          0             0                      0.0       9/8/2021   \n",
       "4          0           105                      0.0      9/13/2021   \n",
       "\n",
       "   Converted Date (Month) Created Date  Created Date (Month)  \\\n",
       "0                    11.0    11/3/2020                    11   \n",
       "1                    12.0   12/16/2020                    12   \n",
       "2                     7.0    6/22/2021                     6   \n",
       "3                     9.0    8/31/2021                     8   \n",
       "4                     9.0    8/12/2020                     8   \n",
       "\n",
       "  Lead Assigned Date  Lead Assigned Date (Month)    MQL Date  ...  \\\n",
       "0                NaN                         NaN         NaN  ...   \n",
       "1                NaN                         NaN  12/16/2020  ...   \n",
       "2                NaN                         NaN         NaN  ...   \n",
       "3                NaN                         NaN         NaN  ...   \n",
       "4                NaN                         NaN   8/11/2020  ...   \n",
       "\n",
       "  Last Activity        Last Modified Date      Pardot Last Activity SQL Date  \\\n",
       "0           NaN  2024-04-25T14:17:24.000Z                       NaN      NaN   \n",
       "1           NaN  2024-04-25T14:17:00.000Z  2020-12-28T22:05:07.000Z      NaN   \n",
       "2           NaN  2024-04-25T14:17:13.000Z                       NaN      NaN   \n",
       "3           NaN  2023-12-13T20:58:59.000Z                       NaN      NaN   \n",
       "4           NaN  2024-04-25T14:16:01.000Z                       NaN      NaN   \n",
       "\n",
       "              Account Engagement Campaign  Assign to RSD Division Department  \\\n",
       "0                        Website Tracking          False      NaN      Sales   \n",
       "1                        Default Campaign          False      NaN      Sales   \n",
       "2                        Website Tracking          False      NaN      Sales   \n",
       "3      Created within Salesforce - Prio 3          False      NaN        NaN   \n",
       "4  AG: TFP LATAM Demo Series DTP Aug 18th          False      NaN      Sales   \n",
       "\n",
       "   Marketing Status Partner Business Model Type  \n",
       "0               NaN                    Reseller  \n",
       "1               NaN                         NaN  \n",
       "2               NaN                         NaN  \n",
       "3               NaN                    Reseller  \n",
       "4               NaN                         NaN  \n",
       "\n",
       "[5 rows x 49 columns]"
      ]
     },
     "execution_count": 2,
     "metadata": {},
     "output_type": "execute_result"
    }
   ],
   "source": [
    "leads = pd.read_csv(\"Leads_Training.csv\")\n",
    "leads.head(5)"
   ]
  },
  {
   "cell_type": "code",
   "execution_count": 3,
   "id": "6bab9096-f35b-4eb9-8732-aa58c399becb",
   "metadata": {},
   "outputs": [
    {
     "data": {
      "text/plain": [
       "(290669, 49)"
      ]
     },
     "execution_count": 3,
     "metadata": {},
     "output_type": "execute_result"
    }
   ],
   "source": [
    "leads.shape"
   ]
  },
  {
   "cell_type": "markdown",
   "id": "44936dc7-8760-4ff3-946d-1a2a0120f428",
   "metadata": {},
   "source": [
    "## Counting NA"
   ]
  },
  {
   "cell_type": "code",
   "execution_count": 4,
   "id": "708abef3-9936-4019-abe8-85f5afb0c2f3",
   "metadata": {
    "scrolled": true
   },
   "outputs": [
    {
     "data": {
      "text/plain": [
       "Employees                                     0\n",
       "Pardot Score                                  0\n",
       "ZI IT Department Budget                       0\n",
       "Converted Date                           278568\n",
       "Converted Date (Month)                   278568\n",
       "Created Date                                  0\n",
       "Created Date (Month)                          0\n",
       "Lead Assigned Date                       139838\n",
       "Lead Assigned Date (Month)               139838\n",
       "MQL Date                                 268149\n",
       "Account Name                              83604\n",
       "Active                                    83604\n",
       "City                                      92329\n",
       "Country                                   53980\n",
       "Converted Opportunity ID                 287726\n",
       "Converted                                     0\n",
       "Converted Contact ID                     278610\n",
       "Deal Type                                290646\n",
       "Deleted                                       0\n",
       "Industry                                 111912\n",
       "Lead Source                                1960\n",
       "Lead Priority                              3194\n",
       "Lead Status                               11295\n",
       "Name                                          0\n",
       "Owner Name                                38043\n",
       "Partner                                  289664\n",
       "Rating                                        0\n",
       "Product Interest                         132232\n",
       "Salutation                               290069\n",
       "Stage                                    287739\n",
       "Subindustry                              230154\n",
       "Territory                                 51573\n",
       "Title                                     23847\n",
       "User Type                                 38043\n",
       "ZI Company Name                          232324\n",
       "ZI Department                            257007\n",
       "Rows                                          0\n",
       "Calculated Lead Assigned Date            195599\n",
       "Calculated Lead Assigned Date (Month)    195599\n",
       "Last Activity                            102488\n",
       "Last Modified Date                            0\n",
       "Pardot Last Activity                     223921\n",
       "SQL Date                                 286279\n",
       "Account Engagement Campaign                   0\n",
       "Assign to RSD                                 0\n",
       "Division                                 290648\n",
       "Department                                86995\n",
       "Marketing Status                         290522\n",
       "Partner Business Model Type              287409\n",
       "dtype: int64"
      ]
     },
     "execution_count": 4,
     "metadata": {},
     "output_type": "execute_result"
    }
   ],
   "source": [
    "leads.isna().sum()"
   ]
  },
  {
   "cell_type": "code",
   "execution_count": 5,
   "id": "1514f87e-08a3-4d90-bef8-21991e110150",
   "metadata": {},
   "outputs": [],
   "source": [
    "leads = leads[~leads[\"Owner Name\"].isna()]"
   ]
  },
  {
   "cell_type": "code",
   "execution_count": 6,
   "id": "edf022df-7f8e-4c24-953f-3989ece095f7",
   "metadata": {},
   "outputs": [
    {
     "data": {
      "text/plain": [
       "Assigned\n",
       "0    158908\n",
       "1     93718\n",
       "Name: Assigned, dtype: int64"
      ]
     },
     "execution_count": 6,
     "metadata": {},
     "output_type": "execute_result"
    }
   ],
   "source": [
    "leads['Converted'] = np.where(leads['Converted'] == True,1,0)\n",
    "leads['Assigned'] = np.where(leads['Calculated Lead Assigned Date'].isna(),0,1)\n",
    "leads['Converted Opportunity ID'] = np.where(leads['Converted Opportunity ID'].isna(),0,1)\n",
    "leads['MQL'] = np.where(leads['MQL Date'].isna(),0,1)\n",
    "leads['City'] = np.where(leads['City'].isna(),\"Not info\",leads['City'])\n",
    "leads['Country'] = np.where(leads['Country'].isna(),\"Not info\",leads['Country'])\n",
    "leads['Converted Contact ID'] = np.where(leads['Converted Contact ID'].isna(),0,1)\n",
    "\n",
    "leads.groupby('Assigned')['Assigned'].count()"
   ]
  },
  {
   "cell_type": "code",
   "execution_count": 7,
   "id": "b7bad91e-8ffd-4385-a9f8-8a8ca825286c",
   "metadata": {
    "scrolled": true
   },
   "outputs": [
    {
     "data": {
      "text/plain": [
       "Employees                                     0\n",
       "Pardot Score                                  0\n",
       "ZI IT Department Budget                       0\n",
       "Converted Date                           240940\n",
       "Converted Date (Month)                   240940\n",
       "Created Date                                  0\n",
       "Created Date (Month)                          0\n",
       "Lead Assigned Date                       110281\n",
       "Lead Assigned Date (Month)               110281\n",
       "MQL Date                                 234534\n",
       "Account Name                              62462\n",
       "Active                                    62462\n",
       "City                                          0\n",
       "Country                                       0\n",
       "Converted Opportunity ID                      0\n",
       "Converted                                     0\n",
       "Converted Contact ID                          0\n",
       "Deal Type                                252611\n",
       "Deleted                                       0\n",
       "Industry                                  88317\n",
       "Lead Source                                1341\n",
       "Lead Priority                              2916\n",
       "Lead Status                               10539\n",
       "Name                                          0\n",
       "Owner Name                                    0\n",
       "Partner                                  251664\n",
       "Rating                                        0\n",
       "Product Interest                         106726\n",
       "Salutation                               252186\n",
       "Stage                                    249760\n",
       "Subindustry                              192463\n",
       "Territory                                 13530\n",
       "Title                                     18053\n",
       "User Type                                     0\n",
       "ZI Company Name                          196057\n",
       "ZI Department                            219078\n",
       "Rows                                          0\n",
       "Calculated Lead Assigned Date            158908\n",
       "Calculated Lead Assigned Date (Month)    158908\n",
       "Last Activity                             87502\n",
       "Last Modified Date                            0\n",
       "Pardot Last Activity                     198505\n",
       "SQL Date                                 248462\n",
       "Account Engagement Campaign                   0\n",
       "Assign to RSD                                 0\n",
       "Division                                 252605\n",
       "Department                                48952\n",
       "Marketing Status                         252519\n",
       "Partner Business Model Type              249656\n",
       "Assigned                                      0\n",
       "MQL                                           0\n",
       "dtype: int64"
      ]
     },
     "execution_count": 7,
     "metadata": {},
     "output_type": "execute_result"
    }
   ],
   "source": [
    "leads.isna().sum()"
   ]
  },
  {
   "cell_type": "markdown",
   "id": "a913b805-bf58-451e-91d8-7de192968b39",
   "metadata": {},
   "source": [
    "## Dates Fromating"
   ]
  },
  {
   "cell_type": "code",
   "execution_count": 8,
   "id": "7fd9054b-c1bc-42cf-ae4f-0fb8eed5bae7",
   "metadata": {},
   "outputs": [],
   "source": [
    "leads['Converted Date']= pd.to_datetime(leads['Converted Date'])\n",
    "leads['Created Date'] = pd.to_datetime(leads['Created Date'])\n",
    "leads['Lead Assigned Date'] = pd.to_datetime(leads['Lead Assigned Date'])\n",
    "leads['Calculated Lead Assigned Date'] = pd.to_datetime(leads['Calculated Lead Assigned Date'])\n",
    "leads['Last Activity'] = pd.to_datetime(leads['Last Activity'])\n",
    "leads['Last Modified Date'] = pd.to_datetime(leads['Last Modified Date'])\n",
    "leads['Last Modified Date'] = leads['Last Modified Date'].dt.tz_localize(None)"
   ]
  },
  {
   "cell_type": "markdown",
   "id": "bba5b00d-cdf8-4e35-8b9c-ca5703cd40ae",
   "metadata": {},
   "source": [
    "## Calculating Time for some Activities"
   ]
  },
  {
   "cell_type": "code",
   "execution_count": 9,
   "id": "2c4efc85-00da-45a3-bc3a-b6a80c08a141",
   "metadata": {},
   "outputs": [],
   "source": [
    "leads['Converted Time'] = np.where(leads['Converted'] == 1,(leads['Converted Date'] - leads['Created Date']).dt.days,(pd.Timestamp.today() - leads['Created Date']).dt.days)\n",
    "leads['Last Activity'] = np.where(leads['Last Activity'].isna(),(pd.Timestamp.today() - leads['Created Date']).dt.days,(leads['Last Activity'] - leads['Created Date']).dt.days)\n",
    "leads['Last Modified Date'] = np.where(leads['Last Modified Date'].isna(),(pd.Timestamp.today() - leads['Created Date']).dt.days,(leads['Last Modified Date'] - leads['Created Date']).dt.days)"
   ]
  },
  {
   "cell_type": "code",
   "execution_count": null,
   "id": "ee7bc171-6111-4d35-b33f-36badc6305b1",
   "metadata": {},
   "outputs": [],
   "source": [
    "leads.drop(columns =['Converted Date','Lead Assigned Date','Converted Date (Month)',\n",
    "                     'MQL Date','Deal Type','Converted Contact ID','Calculated Lead Assigned Date',\n",
    "                     'Lead Status','Salutation','Partner',\"Stage\",'SQL Date'], inplace = True)"
   ]
  },
  {
   "cell_type": "code",
   "execution_count": 11,
   "id": "df8e8c92-ba25-48ba-b8ca-d4257bad32d0",
   "metadata": {
    "scrolled": true
   },
   "outputs": [
    {
     "name": "stdout",
     "output_type": "stream",
     "text": [
      "<class 'pandas.core.frame.DataFrame'>\n",
      "Index: 252626 entries, 0 to 290668\n",
      "Data columns (total 41 columns):\n",
      " #   Column                                 Non-Null Count   Dtype         \n",
      "---  ------                                 --------------   -----         \n",
      " 0   Employees                              252626 non-null  int64         \n",
      " 1   Pardot Score                           252626 non-null  int64         \n",
      " 2   ZI IT Department Budget                252626 non-null  float64       \n",
      " 3   Created Date                           252626 non-null  datetime64[ns]\n",
      " 4   Created Date (Month)                   252626 non-null  int64         \n",
      " 5   Lead Assigned Date (Month)             142345 non-null  float64       \n",
      " 6   Account Name                           190164 non-null  object        \n",
      " 7   Active                                 190164 non-null  object        \n",
      " 8   City                                   252626 non-null  object        \n",
      " 9   Country                                252626 non-null  object        \n",
      " 10  Converted Opportunity ID               252626 non-null  int32         \n",
      " 11  Converted                              252626 non-null  int32         \n",
      " 12  Deleted                                252626 non-null  bool          \n",
      " 13  Industry                               164309 non-null  object        \n",
      " 14  Lead Source                            251285 non-null  object        \n",
      " 15  Lead Priority                          249710 non-null  object        \n",
      " 16  Name                                   252626 non-null  object        \n",
      " 17  Owner Name                             252626 non-null  object        \n",
      " 18  Rating                                 252626 non-null  object        \n",
      " 19  Product Interest                       145900 non-null  object        \n",
      " 20  Subindustry                            60163 non-null   object        \n",
      " 21  Territory                              239096 non-null  object        \n",
      " 22  Title                                  234573 non-null  object        \n",
      " 23  User Type                              252626 non-null  object        \n",
      " 24  ZI Company Name                        56569 non-null   object        \n",
      " 25  ZI Department                          33548 non-null   object        \n",
      " 26  Rows                                   252626 non-null  int64         \n",
      " 27  Calculated Lead Assigned Date (Month)  93718 non-null   float64       \n",
      " 28  Last Activity                          252626 non-null  float64       \n",
      " 29  Last Modified Date                     252626 non-null  int64         \n",
      " 30  Pardot Last Activity                   54121 non-null   object        \n",
      " 31  SQL Date                               4164 non-null    object        \n",
      " 32  Account Engagement Campaign            252626 non-null  object        \n",
      " 33  Assign to RSD                          252626 non-null  bool          \n",
      " 34  Division                               21 non-null      object        \n",
      " 35  Department                             203674 non-null  object        \n",
      " 36  Marketing Status                       107 non-null     object        \n",
      " 37  Partner Business Model Type            2970 non-null    object        \n",
      " 38  Assigned                               252626 non-null  int32         \n",
      " 39  MQL                                    252626 non-null  int32         \n",
      " 40  Converted Time                         252626 non-null  float64       \n",
      "dtypes: bool(2), datetime64[ns](1), float64(5), int32(4), int64(5), object(24)\n",
      "memory usage: 73.7+ MB\n"
     ]
    }
   ],
   "source": [
    "leads.info()"
   ]
  },
  {
   "cell_type": "code",
   "execution_count": 12,
   "id": "4c9d1ab6-1b9d-48ce-b64f-910a93e443b4",
   "metadata": {},
   "outputs": [
    {
     "data": {
      "text/plain": [
       "(252626, 41)"
      ]
     },
     "execution_count": 12,
     "metadata": {},
     "output_type": "execute_result"
    }
   ],
   "source": [
    "leads.shape"
   ]
  },
  {
   "cell_type": "code",
   "execution_count": 13,
   "id": "b1c1afe5-f6c6-4066-a770-c901bbd48bc6",
   "metadata": {},
   "outputs": [],
   "source": [
    "leads.drop(columns=['ZI IT Department Budget','Deleted','Lead Assigned Date (Month)','Rows','Calculated Lead Assigned Date (Month)'], inplace = True)"
   ]
  },
  {
   "cell_type": "code",
   "execution_count": 14,
   "id": "3e1225a8-7f9e-4461-9821-e71f070099cf",
   "metadata": {},
   "outputs": [
    {
     "data": {
      "text/html": [
       "<style type=\"text/css\">\n",
       "#T_ea22f_row0_col0, #T_ea22f_row1_col1, #T_ea22f_row2_col2, #T_ea22f_row3_col3, #T_ea22f_row4_col4, #T_ea22f_row5_col5, #T_ea22f_row6_col6, #T_ea22f_row7_col7, #T_ea22f_row8_col8, #T_ea22f_row9_col9, #T_ea22f_row10_col10 {\n",
       "  background-color: #006837;\n",
       "  color: #f1f1f1;\n",
       "}\n",
       "#T_ea22f_row0_col1, #T_ea22f_row1_col0, #T_ea22f_row2_col7, #T_ea22f_row3_col6, #T_ea22f_row4_col0, #T_ea22f_row4_col10, #T_ea22f_row7_col2, #T_ea22f_row7_col5, #T_ea22f_row8_col2, #T_ea22f_row8_col9, #T_ea22f_row9_col8, #T_ea22f_row10_col3, #T_ea22f_row10_col4 {\n",
       "  background-color: #a50026;\n",
       "  color: #f1f1f1;\n",
       "}\n",
       "#T_ea22f_row0_col2, #T_ea22f_row0_col9, #T_ea22f_row4_col2 {\n",
       "  background-color: #b71126;\n",
       "  color: #f1f1f1;\n",
       "}\n",
       "#T_ea22f_row0_col3, #T_ea22f_row4_col1 {\n",
       "  background-color: #e24731;\n",
       "  color: #f1f1f1;\n",
       "}\n",
       "#T_ea22f_row0_col4, #T_ea22f_row1_col3 {\n",
       "  background-color: #f16640;\n",
       "  color: #f1f1f1;\n",
       "}\n",
       "#T_ea22f_row0_col5 {\n",
       "  background-color: #bd1726;\n",
       "  color: #f1f1f1;\n",
       "}\n",
       "#T_ea22f_row0_col6, #T_ea22f_row5_col8 {\n",
       "  background-color: #e0422f;\n",
       "  color: #f1f1f1;\n",
       "}\n",
       "#T_ea22f_row0_col7, #T_ea22f_row1_col6, #T_ea22f_row3_col0, #T_ea22f_row10_col1 {\n",
       "  background-color: #ab0626;\n",
       "  color: #f1f1f1;\n",
       "}\n",
       "#T_ea22f_row0_col8 {\n",
       "  background-color: #cc2627;\n",
       "  color: #f1f1f1;\n",
       "}\n",
       "#T_ea22f_row0_col10 {\n",
       "  background-color: #fdb768;\n",
       "  color: #000000;\n",
       "}\n",
       "#T_ea22f_row1_col2, #T_ea22f_row1_col7, #T_ea22f_row7_col8, #T_ea22f_row9_col2 {\n",
       "  background-color: #c21c27;\n",
       "  color: #f1f1f1;\n",
       "}\n",
       "#T_ea22f_row1_col4, #T_ea22f_row10_col5 {\n",
       "  background-color: #fdad60;\n",
       "  color: #000000;\n",
       "}\n",
       "#T_ea22f_row1_col5 {\n",
       "  background-color: #b30d26;\n",
       "  color: #f1f1f1;\n",
       "}\n",
       "#T_ea22f_row1_col8, #T_ea22f_row2_col0, #T_ea22f_row3_col5, #T_ea22f_row6_col1 {\n",
       "  background-color: #bb1526;\n",
       "  color: #f1f1f1;\n",
       "}\n",
       "#T_ea22f_row1_col9 {\n",
       "  background-color: #fee593;\n",
       "  color: #000000;\n",
       "}\n",
       "#T_ea22f_row1_col10, #T_ea22f_row8_col10, #T_ea22f_row9_col3 {\n",
       "  background-color: #f36b42;\n",
       "  color: #f1f1f1;\n",
       "}\n",
       "#T_ea22f_row2_col1, #T_ea22f_row3_col1, #T_ea22f_row9_col7 {\n",
       "  background-color: #c82227;\n",
       "  color: #f1f1f1;\n",
       "}\n",
       "#T_ea22f_row2_col3, #T_ea22f_row6_col0, #T_ea22f_row7_col3, #T_ea22f_row10_col0 {\n",
       "  background-color: #e75337;\n",
       "  color: #f1f1f1;\n",
       "}\n",
       "#T_ea22f_row2_col4 {\n",
       "  background-color: #f67c4a;\n",
       "  color: #f1f1f1;\n",
       "}\n",
       "#T_ea22f_row2_col5, #T_ea22f_row5_col3, #T_ea22f_row6_col4, #T_ea22f_row9_col6 {\n",
       "  background-color: #f7814c;\n",
       "  color: #f1f1f1;\n",
       "}\n",
       "#T_ea22f_row2_col6 {\n",
       "  background-color: #e54e35;\n",
       "  color: #f1f1f1;\n",
       "}\n",
       "#T_ea22f_row2_col8, #T_ea22f_row6_col7, #T_ea22f_row10_col7, #T_ea22f_row10_col8 {\n",
       "  background-color: #b91326;\n",
       "  color: #f1f1f1;\n",
       "}\n",
       "#T_ea22f_row2_col9 {\n",
       "  background-color: #d62f27;\n",
       "  color: #f1f1f1;\n",
       "}\n",
       "#T_ea22f_row2_col10 {\n",
       "  background-color: #fdbd6d;\n",
       "  color: #000000;\n",
       "}\n",
       "#T_ea22f_row3_col2, #T_ea22f_row4_col7, #T_ea22f_row7_col0 {\n",
       "  background-color: #b10b26;\n",
       "  color: #f1f1f1;\n",
       "}\n",
       "#T_ea22f_row3_col4 {\n",
       "  background-color: #d9ef8b;\n",
       "  color: #000000;\n",
       "}\n",
       "#T_ea22f_row3_col7, #T_ea22f_row4_col6, #T_ea22f_row7_col6, #T_ea22f_row8_col7 {\n",
       "  background-color: #af0926;\n",
       "  color: #f1f1f1;\n",
       "}\n",
       "#T_ea22f_row3_col8, #T_ea22f_row5_col0 {\n",
       "  background-color: #dd3d2d;\n",
       "  color: #f1f1f1;\n",
       "}\n",
       "#T_ea22f_row3_col9, #T_ea22f_row5_col1 {\n",
       "  background-color: #d83128;\n",
       "  color: #f1f1f1;\n",
       "}\n",
       "#T_ea22f_row3_col10, #T_ea22f_row5_col7, #T_ea22f_row7_col1, #T_ea22f_row9_col5 {\n",
       "  background-color: #c62027;\n",
       "  color: #f1f1f1;\n",
       "}\n",
       "#T_ea22f_row4_col3 {\n",
       "  background-color: #e3f399;\n",
       "  color: #000000;\n",
       "}\n",
       "#T_ea22f_row4_col5 {\n",
       "  background-color: #ec5c3b;\n",
       "  color: #f1f1f1;\n",
       "}\n",
       "#T_ea22f_row4_col8, #T_ea22f_row6_col8 {\n",
       "  background-color: #dc3b2c;\n",
       "  color: #f1f1f1;\n",
       "}\n",
       "#T_ea22f_row4_col9, #T_ea22f_row6_col3 {\n",
       "  background-color: #e65036;\n",
       "  color: #f1f1f1;\n",
       "}\n",
       "#T_ea22f_row5_col2 {\n",
       "  background-color: #fca55d;\n",
       "  color: #000000;\n",
       "}\n",
       "#T_ea22f_row5_col4 {\n",
       "  background-color: #fed683;\n",
       "  color: #000000;\n",
       "}\n",
       "#T_ea22f_row5_col6 {\n",
       "  background-color: #feec9f;\n",
       "  color: #000000;\n",
       "}\n",
       "#T_ea22f_row5_col9, #T_ea22f_row6_col2, #T_ea22f_row10_col2 {\n",
       "  background-color: #ea5739;\n",
       "  color: #f1f1f1;\n",
       "}\n",
       "#T_ea22f_row5_col10 {\n",
       "  background-color: #fff7b2;\n",
       "  color: #000000;\n",
       "}\n",
       "#T_ea22f_row6_col5 {\n",
       "  background-color: #fee491;\n",
       "  color: #000000;\n",
       "}\n",
       "#T_ea22f_row6_col9 {\n",
       "  background-color: #fb9d59;\n",
       "  color: #000000;\n",
       "}\n",
       "#T_ea22f_row6_col10 {\n",
       "  background-color: #0f8446;\n",
       "  color: #f1f1f1;\n",
       "}\n",
       "#T_ea22f_row7_col4 {\n",
       "  background-color: #f57748;\n",
       "  color: #f1f1f1;\n",
       "}\n",
       "#T_ea22f_row7_col9 {\n",
       "  background-color: #da362a;\n",
       "  color: #f1f1f1;\n",
       "}\n",
       "#T_ea22f_row7_col10 {\n",
       "  background-color: #f67f4b;\n",
       "  color: #f1f1f1;\n",
       "}\n",
       "#T_ea22f_row8_col0 {\n",
       "  background-color: #be1827;\n",
       "  color: #f1f1f1;\n",
       "}\n",
       "#T_ea22f_row8_col1 {\n",
       "  background-color: #ad0826;\n",
       "  color: #f1f1f1;\n",
       "}\n",
       "#T_ea22f_row8_col3 {\n",
       "  background-color: #f57547;\n",
       "  color: #f1f1f1;\n",
       "}\n",
       "#T_ea22f_row8_col4 {\n",
       "  background-color: #fa9656;\n",
       "  color: #000000;\n",
       "}\n",
       "#T_ea22f_row8_col5 {\n",
       "  background-color: #b50f26;\n",
       "  color: #f1f1f1;\n",
       "}\n",
       "#T_ea22f_row8_col6 {\n",
       "  background-color: #c41e27;\n",
       "  color: #f1f1f1;\n",
       "}\n",
       "#T_ea22f_row9_col0 {\n",
       "  background-color: #a70226;\n",
       "  color: #f1f1f1;\n",
       "}\n",
       "#T_ea22f_row9_col1 {\n",
       "  background-color: #fede89;\n",
       "  color: #000000;\n",
       "}\n",
       "#T_ea22f_row9_col4 {\n",
       "  background-color: #fca85e;\n",
       "  color: #000000;\n",
       "}\n",
       "#T_ea22f_row9_col10 {\n",
       "  background-color: #feca79;\n",
       "  color: #000000;\n",
       "}\n",
       "#T_ea22f_row10_col6 {\n",
       "  background-color: #138c4a;\n",
       "  color: #f1f1f1;\n",
       "}\n",
       "#T_ea22f_row10_col9 {\n",
       "  background-color: #f7844e;\n",
       "  color: #f1f1f1;\n",
       "}\n",
       "</style>\n",
       "<table id=\"T_ea22f\">\n",
       "  <thead>\n",
       "    <tr>\n",
       "      <th class=\"blank level0\" >&nbsp;</th>\n",
       "      <th id=\"T_ea22f_level0_col0\" class=\"col_heading level0 col0\" >Employees</th>\n",
       "      <th id=\"T_ea22f_level0_col1\" class=\"col_heading level0 col1\" >Pardot Score</th>\n",
       "      <th id=\"T_ea22f_level0_col2\" class=\"col_heading level0 col2\" >Created Date (Month)</th>\n",
       "      <th id=\"T_ea22f_level0_col3\" class=\"col_heading level0 col3\" >Converted Opportunity ID</th>\n",
       "      <th id=\"T_ea22f_level0_col4\" class=\"col_heading level0 col4\" >Converted</th>\n",
       "      <th id=\"T_ea22f_level0_col5\" class=\"col_heading level0 col5\" >Last Activity</th>\n",
       "      <th id=\"T_ea22f_level0_col6\" class=\"col_heading level0 col6\" >Last Modified Date</th>\n",
       "      <th id=\"T_ea22f_level0_col7\" class=\"col_heading level0 col7\" >Assign to RSD</th>\n",
       "      <th id=\"T_ea22f_level0_col8\" class=\"col_heading level0 col8\" >Assigned</th>\n",
       "      <th id=\"T_ea22f_level0_col9\" class=\"col_heading level0 col9\" >MQL</th>\n",
       "      <th id=\"T_ea22f_level0_col10\" class=\"col_heading level0 col10\" >Converted Time</th>\n",
       "    </tr>\n",
       "  </thead>\n",
       "  <tbody>\n",
       "    <tr>\n",
       "      <th id=\"T_ea22f_level0_row0\" class=\"row_heading level0 row0\" >Employees</th>\n",
       "      <td id=\"T_ea22f_row0_col0\" class=\"data row0 col0\" >1.000000</td>\n",
       "      <td id=\"T_ea22f_row0_col1\" class=\"data row0 col1\" >-0.040457</td>\n",
       "      <td id=\"T_ea22f_row0_col2\" class=\"data row0 col2\" >0.007408</td>\n",
       "      <td id=\"T_ea22f_row0_col3\" class=\"data row0 col3\" >-0.026739</td>\n",
       "      <td id=\"T_ea22f_row0_col4\" class=\"data row0 col4\" >-0.038334</td>\n",
       "      <td id=\"T_ea22f_row0_col5\" class=\"data row0 col5\" >0.088333</td>\n",
       "      <td id=\"T_ea22f_row0_col6\" class=\"data row0 col6\" >0.122704</td>\n",
       "      <td id=\"T_ea22f_row0_col7\" class=\"data row0 col7\" >-0.013664</td>\n",
       "      <td id=\"T_ea22f_row0_col8\" class=\"data row0 col8\" >0.015862</td>\n",
       "      <td id=\"T_ea22f_row0_col9\" class=\"data row0 col9\" >-0.032834</td>\n",
       "      <td id=\"T_ea22f_row0_col10\" class=\"data row0 col10\" >0.126009</td>\n",
       "    </tr>\n",
       "    <tr>\n",
       "      <th id=\"T_ea22f_level0_row1\" class=\"row_heading level0 row1\" >Pardot Score</th>\n",
       "      <td id=\"T_ea22f_row1_col0\" class=\"data row1 col0\" >-0.040457</td>\n",
       "      <td id=\"T_ea22f_row1_col1\" class=\"data row1 col1\" >1.000000</td>\n",
       "      <td id=\"T_ea22f_row1_col2\" class=\"data row1 col2\" >0.033402</td>\n",
       "      <td id=\"T_ea22f_row1_col3\" class=\"data row1 col3\" >0.033265</td>\n",
       "      <td id=\"T_ea22f_row1_col4\" class=\"data row1 col4\" >0.105230</td>\n",
       "      <td id=\"T_ea22f_row1_col5\" class=\"data row1 col5\" >0.067768</td>\n",
       "      <td id=\"T_ea22f_row1_col6\" class=\"data row1 col6\" >0.007042</td>\n",
       "      <td id=\"T_ea22f_row1_col7\" class=\"data row1 col7\" >0.032022</td>\n",
       "      <td id=\"T_ea22f_row1_col8\" class=\"data row1 col8\" >-0.023654</td>\n",
       "      <td id=\"T_ea22f_row1_col9\" class=\"data row1 col9\" >0.373702</td>\n",
       "      <td id=\"T_ea22f_row1_col10\" class=\"data row1 col10\" >-0.027254</td>\n",
       "    </tr>\n",
       "    <tr>\n",
       "      <th id=\"T_ea22f_level0_row2\" class=\"row_heading level0 row2\" >Created Date (Month)</th>\n",
       "      <td id=\"T_ea22f_row2_col0\" class=\"data row2 col0\" >0.007408</td>\n",
       "      <td id=\"T_ea22f_row2_col1\" class=\"data row2 col1\" >0.033402</td>\n",
       "      <td id=\"T_ea22f_row2_col2\" class=\"data row2 col2\" >1.000000</td>\n",
       "      <td id=\"T_ea22f_row2_col3\" class=\"data row2 col3\" >-0.004291</td>\n",
       "      <td id=\"T_ea22f_row2_col4\" class=\"data row2 col4\" >0.008532</td>\n",
       "      <td id=\"T_ea22f_row2_col5\" class=\"data row2 col5\" >0.265012</td>\n",
       "      <td id=\"T_ea22f_row2_col6\" class=\"data row2 col6\" >0.142242</td>\n",
       "      <td id=\"T_ea22f_row2_col7\" class=\"data row2 col7\" >-0.028929</td>\n",
       "      <td id=\"T_ea22f_row2_col8\" class=\"data row2 col8\" >-0.027722</td>\n",
       "      <td id=\"T_ea22f_row2_col9\" class=\"data row2 col9\" >0.034612</td>\n",
       "      <td id=\"T_ea22f_row2_col10\" class=\"data row2 col10\" >0.142406</td>\n",
       "    </tr>\n",
       "    <tr>\n",
       "      <th id=\"T_ea22f_level0_row3\" class=\"row_heading level0 row3\" >Converted Opportunity ID</th>\n",
       "      <td id=\"T_ea22f_row3_col0\" class=\"data row3 col0\" >-0.026739</td>\n",
       "      <td id=\"T_ea22f_row3_col1\" class=\"data row3 col1\" >0.033265</td>\n",
       "      <td id=\"T_ea22f_row3_col2\" class=\"data row3 col2\" >-0.004291</td>\n",
       "      <td id=\"T_ea22f_row3_col3\" class=\"data row3 col3\" >1.000000</td>\n",
       "      <td id=\"T_ea22f_row3_col4\" class=\"data row3 col4\" >0.487520</td>\n",
       "      <td id=\"T_ea22f_row3_col5\" class=\"data row3 col5\" >0.084425</td>\n",
       "      <td id=\"T_ea22f_row3_col6\" class=\"data row3 col6\" >-0.007582</td>\n",
       "      <td id=\"T_ea22f_row3_col7\" class=\"data row3 col7\" >-0.006935</td>\n",
       "      <td id=\"T_ea22f_row3_col8\" class=\"data row3 col8\" >0.062453</td>\n",
       "      <td id=\"T_ea22f_row3_col9\" class=\"data row3 col9\" >0.041338</td>\n",
       "      <td id=\"T_ea22f_row3_col10\" class=\"data row3 col10\" >-0.193505</td>\n",
       "    </tr>\n",
       "    <tr>\n",
       "      <th id=\"T_ea22f_level0_row4\" class=\"row_heading level0 row4\" >Converted</th>\n",
       "      <td id=\"T_ea22f_row4_col0\" class=\"data row4 col0\" >-0.038334</td>\n",
       "      <td id=\"T_ea22f_row4_col1\" class=\"data row4 col1\" >0.105230</td>\n",
       "      <td id=\"T_ea22f_row4_col2\" class=\"data row4 col2\" >0.008532</td>\n",
       "      <td id=\"T_ea22f_row4_col3\" class=\"data row4 col3\" >0.487520</td>\n",
       "      <td id=\"T_ea22f_row4_col4\" class=\"data row4 col4\" >1.000000</td>\n",
       "      <td id=\"T_ea22f_row4_col5\" class=\"data row4 col5\" >0.207457</td>\n",
       "      <td id=\"T_ea22f_row4_col6\" class=\"data row4 col6\" >0.015950</td>\n",
       "      <td id=\"T_ea22f_row4_col7\" class=\"data row4 col7\" >-0.001714</td>\n",
       "      <td id=\"T_ea22f_row4_col8\" class=\"data row4 col8\" >0.056521</td>\n",
       "      <td id=\"T_ea22f_row4_col9\" class=\"data row4 col9\" >0.093706</td>\n",
       "      <td id=\"T_ea22f_row4_col10\" class=\"data row4 col10\" >-0.278778</td>\n",
       "    </tr>\n",
       "    <tr>\n",
       "      <th id=\"T_ea22f_level0_row5\" class=\"row_heading level0 row5\" >Last Activity</th>\n",
       "      <td id=\"T_ea22f_row5_col0\" class=\"data row5 col0\" >0.088333</td>\n",
       "      <td id=\"T_ea22f_row5_col1\" class=\"data row5 col1\" >0.067768</td>\n",
       "      <td id=\"T_ea22f_row5_col2\" class=\"data row5 col2\" >0.265012</td>\n",
       "      <td id=\"T_ea22f_row5_col3\" class=\"data row5 col3\" >0.084425</td>\n",
       "      <td id=\"T_ea22f_row5_col4\" class=\"data row5 col4\" >0.207457</td>\n",
       "      <td id=\"T_ea22f_row5_col5\" class=\"data row5 col5\" >1.000000</td>\n",
       "      <td id=\"T_ea22f_row5_col6\" class=\"data row5 col6\" >0.435452</td>\n",
       "      <td id=\"T_ea22f_row5_col7\" class=\"data row5 col7\" >0.040581</td>\n",
       "      <td id=\"T_ea22f_row5_col8\" class=\"data row5 col8\" >0.070818</td>\n",
       "      <td id=\"T_ea22f_row5_col9\" class=\"data row5 col9\" >0.106162</td>\n",
       "      <td id=\"T_ea22f_row5_col10\" class=\"data row5 col10\" >0.327237</td>\n",
       "    </tr>\n",
       "    <tr>\n",
       "      <th id=\"T_ea22f_level0_row6\" class=\"row_heading level0 row6\" >Last Modified Date</th>\n",
       "      <td id=\"T_ea22f_row6_col0\" class=\"data row6 col0\" >0.122704</td>\n",
       "      <td id=\"T_ea22f_row6_col1\" class=\"data row6 col1\" >0.007042</td>\n",
       "      <td id=\"T_ea22f_row6_col2\" class=\"data row6 col2\" >0.142242</td>\n",
       "      <td id=\"T_ea22f_row6_col3\" class=\"data row6 col3\" >-0.007582</td>\n",
       "      <td id=\"T_ea22f_row6_col4\" class=\"data row6 col4\" >0.015950</td>\n",
       "      <td id=\"T_ea22f_row6_col5\" class=\"data row6 col5\" >0.435452</td>\n",
       "      <td id=\"T_ea22f_row6_col6\" class=\"data row6 col6\" >1.000000</td>\n",
       "      <td id=\"T_ea22f_row6_col7\" class=\"data row6 col7\" >0.012477</td>\n",
       "      <td id=\"T_ea22f_row6_col8\" class=\"data row6 col8\" >0.057044</td>\n",
       "      <td id=\"T_ea22f_row6_col9\" class=\"data row6 col9\" >0.225827</td>\n",
       "      <td id=\"T_ea22f_row6_col10\" class=\"data row6 col10\" >0.923762</td>\n",
       "    </tr>\n",
       "    <tr>\n",
       "      <th id=\"T_ea22f_level0_row7\" class=\"row_heading level0 row7\" >Assign to RSD</th>\n",
       "      <td id=\"T_ea22f_row7_col0\" class=\"data row7 col0\" >-0.013664</td>\n",
       "      <td id=\"T_ea22f_row7_col1\" class=\"data row7 col1\" >0.032022</td>\n",
       "      <td id=\"T_ea22f_row7_col2\" class=\"data row7 col2\" >-0.028929</td>\n",
       "      <td id=\"T_ea22f_row7_col3\" class=\"data row7 col3\" >-0.006935</td>\n",
       "      <td id=\"T_ea22f_row7_col4\" class=\"data row7 col4\" >-0.001714</td>\n",
       "      <td id=\"T_ea22f_row7_col5\" class=\"data row7 col5\" >0.040581</td>\n",
       "      <td id=\"T_ea22f_row7_col6\" class=\"data row7 col6\" >0.012477</td>\n",
       "      <td id=\"T_ea22f_row7_col7\" class=\"data row7 col7\" >1.000000</td>\n",
       "      <td id=\"T_ea22f_row7_col8\" class=\"data row7 col8\" >-0.005101</td>\n",
       "      <td id=\"T_ea22f_row7_col9\" class=\"data row7 col9\" >0.047411</td>\n",
       "      <td id=\"T_ea22f_row7_col10\" class=\"data row7 col10\" >0.014261</td>\n",
       "    </tr>\n",
       "    <tr>\n",
       "      <th id=\"T_ea22f_level0_row8\" class=\"row_heading level0 row8\" >Assigned</th>\n",
       "      <td id=\"T_ea22f_row8_col0\" class=\"data row8 col0\" >0.015862</td>\n",
       "      <td id=\"T_ea22f_row8_col1\" class=\"data row8 col1\" >-0.023654</td>\n",
       "      <td id=\"T_ea22f_row8_col2\" class=\"data row8 col2\" >-0.027722</td>\n",
       "      <td id=\"T_ea22f_row8_col3\" class=\"data row8 col3\" >0.062453</td>\n",
       "      <td id=\"T_ea22f_row8_col4\" class=\"data row8 col4\" >0.056521</td>\n",
       "      <td id=\"T_ea22f_row8_col5\" class=\"data row8 col5\" >0.070818</td>\n",
       "      <td id=\"T_ea22f_row8_col6\" class=\"data row8 col6\" >0.057044</td>\n",
       "      <td id=\"T_ea22f_row8_col7\" class=\"data row8 col7\" >-0.005101</td>\n",
       "      <td id=\"T_ea22f_row8_col8\" class=\"data row8 col8\" >1.000000</td>\n",
       "      <td id=\"T_ea22f_row8_col9\" class=\"data row8 col9\" >-0.071240</td>\n",
       "      <td id=\"T_ea22f_row8_col10\" class=\"data row8 col10\" >-0.026537</td>\n",
       "    </tr>\n",
       "    <tr>\n",
       "      <th id=\"T_ea22f_level0_row9\" class=\"row_heading level0 row9\" >MQL</th>\n",
       "      <td id=\"T_ea22f_row9_col0\" class=\"data row9 col0\" >-0.032834</td>\n",
       "      <td id=\"T_ea22f_row9_col1\" class=\"data row9 col1\" >0.373702</td>\n",
       "      <td id=\"T_ea22f_row9_col2\" class=\"data row9 col2\" >0.034612</td>\n",
       "      <td id=\"T_ea22f_row9_col3\" class=\"data row9 col3\" >0.041338</td>\n",
       "      <td id=\"T_ea22f_row9_col4\" class=\"data row9 col4\" >0.093706</td>\n",
       "      <td id=\"T_ea22f_row9_col5\" class=\"data row9 col5\" >0.106162</td>\n",
       "      <td id=\"T_ea22f_row9_col6\" class=\"data row9 col6\" >0.225827</td>\n",
       "      <td id=\"T_ea22f_row9_col7\" class=\"data row9 col7\" >0.047411</td>\n",
       "      <td id=\"T_ea22f_row9_col8\" class=\"data row9 col8\" >-0.071240</td>\n",
       "      <td id=\"T_ea22f_row9_col9\" class=\"data row9 col9\" >1.000000</td>\n",
       "      <td id=\"T_ea22f_row9_col10\" class=\"data row9 col10\" >0.180104</td>\n",
       "    </tr>\n",
       "    <tr>\n",
       "      <th id=\"T_ea22f_level0_row10\" class=\"row_heading level0 row10\" >Converted Time</th>\n",
       "      <td id=\"T_ea22f_row10_col0\" class=\"data row10 col0\" >0.126009</td>\n",
       "      <td id=\"T_ea22f_row10_col1\" class=\"data row10 col1\" >-0.027254</td>\n",
       "      <td id=\"T_ea22f_row10_col2\" class=\"data row10 col2\" >0.142406</td>\n",
       "      <td id=\"T_ea22f_row10_col3\" class=\"data row10 col3\" >-0.193505</td>\n",
       "      <td id=\"T_ea22f_row10_col4\" class=\"data row10 col4\" >-0.278778</td>\n",
       "      <td id=\"T_ea22f_row10_col5\" class=\"data row10 col5\" >0.327237</td>\n",
       "      <td id=\"T_ea22f_row10_col6\" class=\"data row10 col6\" >0.923762</td>\n",
       "      <td id=\"T_ea22f_row10_col7\" class=\"data row10 col7\" >0.014261</td>\n",
       "      <td id=\"T_ea22f_row10_col8\" class=\"data row10 col8\" >-0.026537</td>\n",
       "      <td id=\"T_ea22f_row10_col9\" class=\"data row10 col9\" >0.180104</td>\n",
       "      <td id=\"T_ea22f_row10_col10\" class=\"data row10 col10\" >1.000000</td>\n",
       "    </tr>\n",
       "  </tbody>\n",
       "</table>\n"
      ],
      "text/plain": [
       "<pandas.io.formats.style.Styler at 0x1e656e589b0>"
      ]
     },
     "execution_count": 14,
     "metadata": {},
     "output_type": "execute_result"
    }
   ],
   "source": [
    "leads.corr(numeric_only=True).style.background_gradient(cmap=\"RdYlGn\")"
   ]
  },
  {
   "cell_type": "code",
   "execution_count": 15,
   "id": "7f057aad-ff94-43a9-92e9-b3e982f8dcc3",
   "metadata": {},
   "outputs": [
    {
     "data": {
      "image/png": "[encoded data removed]",
      "text/plain": [
       "<Figure size 640x480 with 1 Axes>"
      ]
     },
     "metadata": {},
     "output_type": "display_data"
    }
   ],
   "source": [
    "outliers_check = [\"Converted Time\",'Last Modified Date','Last Activity']\n",
    "\n",
    "leads[outliers_check].plot.box()\n",
    "plt.show()"
   ]
  },
  {
   "cell_type": "code",
   "execution_count": 16,
   "id": "281d7df9-eeee-411c-9eea-12adbe383f8a",
   "metadata": {},
   "outputs": [
    {
     "data": {
      "image/png": "[encoded data removed]",
      "text/plain": [
       "<Figure size 640x480 with 1 Axes>"
      ]
     },
     "metadata": {},
     "output_type": "display_data"
    }
   ],
   "source": [
    "outliers_check = ['Converted Time']\n",
    "\n",
    "leads[outliers_check].plot.hist()\n",
    "plt.show()"
   ]
  },
  {
   "cell_type": "code",
   "execution_count": 17,
   "id": "a0193792-f911-4873-becf-318ef681dfa7",
   "metadata": {},
   "outputs": [
    {
     "data": {
      "image/png": "[encoded data removed]",
      "text/plain": [
       "<Figure size 640x480 with 1 Axes>"
      ]
     },
     "metadata": {},
     "output_type": "display_data"
    }
   ],
   "source": [
    "## Delete migrated Leads\n",
    "leads = leads[leads['Created Date']>=pd.Timestamp('2022-01-01')]\n",
    "leads.drop(columns =['Created Date'], inplace = True)\n",
    "leads[outliers_check].plot.hist()\n",
    "plt.show()"
   ]
  },
  {
   "cell_type": "code",
   "execution_count": 18,
   "id": "457c7fee-6aff-40db-a8bc-1cadcf4f88ca",
   "metadata": {},
   "outputs": [
    {
     "name": "stdout",
     "output_type": "stream",
     "text": [
      "0\n"
     ]
    }
   ],
   "source": [
    "outliers_labels = [\n",
    "    'Converted Time'\n",
    "]\n",
    "\n",
    "test_outliers = leads[outliers_labels].copy()\n",
    "for col in outliers_labels:\n",
    "    q1 = np.quantile(test_outliers[col], 0.25)\n",
    "    q3 = np.quantile(test_outliers[col], 0.75)\n",
    "    iqr = q3 - q1\n",
    "    maximum = q3 + (1.5 * iqr)\n",
    "    minimum = q1 - (1.5 * iqr)\n",
    "    test_outliers = test_outliers[(test_outliers[col] >= minimum) & (test_outliers[col] <= maximum)]\n",
    " \n",
    "print(leads.shape[0] - test_outliers.shape[0])"
   ]
  },
  {
   "cell_type": "code",
   "execution_count": 19,
   "id": "9fff4c53-b955-47b5-a77a-819c8f74dcd2",
   "metadata": {},
   "outputs": [
    {
     "data": {
      "text/html": [
       "<div>\n",
       "<style scoped>\n",
       "    .dataframe tbody tr th:only-of-type {\n",
       "        vertical-align: middle;\n",
       "    }\n",
       "\n",
       "    .dataframe tbody tr th {\n",
       "        vertical-align: top;\n",
       "    }\n",
       "\n",
       "    .dataframe thead th {\n",
       "        text-align: right;\n",
       "    }\n",
       "</style>\n",
       "<table border=\"1\" class=\"dataframe\">\n",
       "  <thead>\n",
       "    <tr style=\"text-align: right;\">\n",
       "      <th></th>\n",
       "      <th>Employees</th>\n",
       "      <th>Pardot Score</th>\n",
       "      <th>Created Date (Month)</th>\n",
       "      <th>Account Name</th>\n",
       "      <th>Active</th>\n",
       "      <th>City</th>\n",
       "      <th>Country</th>\n",
       "      <th>Converted Opportunity ID</th>\n",
       "      <th>Industry</th>\n",
       "      <th>Lead Source</th>\n",
       "      <th>...</th>\n",
       "      <th>SQL Date</th>\n",
       "      <th>Account Engagement Campaign</th>\n",
       "      <th>Assign to RSD</th>\n",
       "      <th>Division</th>\n",
       "      <th>Department</th>\n",
       "      <th>Marketing Status</th>\n",
       "      <th>Partner Business Model Type</th>\n",
       "      <th>Assigned</th>\n",
       "      <th>MQL</th>\n",
       "      <th>Converted Time</th>\n",
       "    </tr>\n",
       "    <tr>\n",
       "      <th>Converted</th>\n",
       "      <th></th>\n",
       "      <th></th>\n",
       "      <th></th>\n",
       "      <th></th>\n",
       "      <th></th>\n",
       "      <th></th>\n",
       "      <th></th>\n",
       "      <th></th>\n",
       "      <th></th>\n",
       "      <th></th>\n",
       "      <th></th>\n",
       "      <th></th>\n",
       "      <th></th>\n",
       "      <th></th>\n",
       "      <th></th>\n",
       "      <th></th>\n",
       "      <th></th>\n",
       "      <th></th>\n",
       "      <th></th>\n",
       "      <th></th>\n",
       "      <th></th>\n",
       "    </tr>\n",
       "  </thead>\n",
       "  <tbody>\n",
       "    <tr>\n",
       "      <th>0</th>\n",
       "      <td>99647</td>\n",
       "      <td>99647</td>\n",
       "      <td>99647</td>\n",
       "      <td>61264</td>\n",
       "      <td>61264</td>\n",
       "      <td>99647</td>\n",
       "      <td>99647</td>\n",
       "      <td>99647</td>\n",
       "      <td>41530</td>\n",
       "      <td>98674</td>\n",
       "      <td>...</td>\n",
       "      <td>8</td>\n",
       "      <td>99647</td>\n",
       "      <td>99647</td>\n",
       "      <td>0</td>\n",
       "      <td>90108</td>\n",
       "      <td>0</td>\n",
       "      <td>571</td>\n",
       "      <td>99647</td>\n",
       "      <td>99647</td>\n",
       "      <td>99647</td>\n",
       "    </tr>\n",
       "    <tr>\n",
       "      <th>1</th>\n",
       "      <td>4823</td>\n",
       "      <td>4823</td>\n",
       "      <td>4823</td>\n",
       "      <td>3733</td>\n",
       "      <td>3733</td>\n",
       "      <td>4823</td>\n",
       "      <td>4823</td>\n",
       "      <td>4823</td>\n",
       "      <td>1676</td>\n",
       "      <td>4760</td>\n",
       "      <td>...</td>\n",
       "      <td>11</td>\n",
       "      <td>4823</td>\n",
       "      <td>4823</td>\n",
       "      <td>0</td>\n",
       "      <td>4715</td>\n",
       "      <td>0</td>\n",
       "      <td>1216</td>\n",
       "      <td>4823</td>\n",
       "      <td>4823</td>\n",
       "      <td>4823</td>\n",
       "    </tr>\n",
       "  </tbody>\n",
       "</table>\n",
       "<p>2 rows × 34 columns</p>\n",
       "</div>"
      ],
      "text/plain": [
       "           Employees  Pardot Score  Created Date (Month)  Account Name  \\\n",
       "Converted                                                                \n",
       "0              99647         99647                 99647         61264   \n",
       "1               4823          4823                  4823          3733   \n",
       "\n",
       "           Active   City  Country  Converted Opportunity ID  Industry  \\\n",
       "Converted                                                               \n",
       "0           61264  99647    99647                     99647     41530   \n",
       "1            3733   4823     4823                      4823      1676   \n",
       "\n",
       "           Lead Source  ...  SQL Date  Account Engagement Campaign  \\\n",
       "Converted               ...                                          \n",
       "0                98674  ...         8                        99647   \n",
       "1                 4760  ...        11                         4823   \n",
       "\n",
       "           Assign to RSD  Division  Department  Marketing Status  \\\n",
       "Converted                                                          \n",
       "0                  99647         0       90108                 0   \n",
       "1                   4823         0        4715                 0   \n",
       "\n",
       "           Partner Business Model Type  Assigned    MQL  Converted Time  \n",
       "Converted                                                                \n",
       "0                                  571     99647  99647           99647  \n",
       "1                                 1216      4823   4823            4823  \n",
       "\n",
       "[2 rows x 34 columns]"
      ]
     },
     "execution_count": 19,
     "metadata": {},
     "output_type": "execute_result"
    }
   ],
   "source": [
    "leads.groupby('Converted').count()"
   ]
  },
  {
   "cell_type": "code",
   "execution_count": null,
   "id": "fa5a0100-883b-4955-8845-fe589eb660f2",
   "metadata": {},
   "outputs": [],
   "source": []
  },
  {
   "cell_type": "code",
   "execution_count": 20,
   "id": "82626345-dfe2-47ba-8a3f-7fbafb228987",
   "metadata": {},
   "outputs": [
    {
     "data": {
      "text/plain": [
       "4823"
      ]
     },
     "execution_count": 20,
     "metadata": {},
     "output_type": "execute_result"
    }
   ],
   "source": [
    "converted = leads[leads[\"Converted\"] == 1]['Converted'].count()\n",
    "converted"
   ]
  },
  {
   "cell_type": "code",
   "execution_count": 21,
   "id": "e3350ad2-9dba-4f44-8024-56a7765ffb85",
   "metadata": {},
   "outputs": [],
   "source": [
    "#leads_no_converted = leads[leads[\"Converted\"] == 0].sample(converted)\n",
    "#leads_converted = leads[leads[\"Converted\"] == 1]\n",
    "\n",
    "#leads = pd.concat([leads_converted, leads_no_converted], ignore_index=True)\n",
    "#leads.shape"
   ]
  },
  {
   "cell_type": "code",
   "execution_count": 22,
   "id": "55b26514-ea3e-4778-86d4-8e556cb7b3ec",
   "metadata": {},
   "outputs": [
    {
     "data": {
      "text/html": [
       "<div>\n",
       "<style scoped>\n",
       "    .dataframe tbody tr th:only-of-type {\n",
       "        vertical-align: middle;\n",
       "    }\n",
       "\n",
       "    .dataframe tbody tr th {\n",
       "        vertical-align: top;\n",
       "    }\n",
       "\n",
       "    .dataframe thead th {\n",
       "        text-align: right;\n",
       "    }\n",
       "</style>\n",
       "<table border=\"1\" class=\"dataframe\">\n",
       "  <thead>\n",
       "    <tr style=\"text-align: right;\">\n",
       "      <th></th>\n",
       "      <th>Employees</th>\n",
       "      <th>Pardot Score</th>\n",
       "      <th>Created Date (Month)</th>\n",
       "      <th>Account Name</th>\n",
       "      <th>Active</th>\n",
       "      <th>City</th>\n",
       "      <th>Country</th>\n",
       "      <th>Converted Opportunity ID</th>\n",
       "      <th>Industry</th>\n",
       "      <th>Lead Source</th>\n",
       "      <th>...</th>\n",
       "      <th>SQL Date</th>\n",
       "      <th>Account Engagement Campaign</th>\n",
       "      <th>Assign to RSD</th>\n",
       "      <th>Division</th>\n",
       "      <th>Department</th>\n",
       "      <th>Marketing Status</th>\n",
       "      <th>Partner Business Model Type</th>\n",
       "      <th>Assigned</th>\n",
       "      <th>MQL</th>\n",
       "      <th>Converted Time</th>\n",
       "    </tr>\n",
       "    <tr>\n",
       "      <th>Converted</th>\n",
       "      <th></th>\n",
       "      <th></th>\n",
       "      <th></th>\n",
       "      <th></th>\n",
       "      <th></th>\n",
       "      <th></th>\n",
       "      <th></th>\n",
       "      <th></th>\n",
       "      <th></th>\n",
       "      <th></th>\n",
       "      <th></th>\n",
       "      <th></th>\n",
       "      <th></th>\n",
       "      <th></th>\n",
       "      <th></th>\n",
       "      <th></th>\n",
       "      <th></th>\n",
       "      <th></th>\n",
       "      <th></th>\n",
       "      <th></th>\n",
       "      <th></th>\n",
       "    </tr>\n",
       "  </thead>\n",
       "  <tbody>\n",
       "    <tr>\n",
       "      <th>0</th>\n",
       "      <td>99647</td>\n",
       "      <td>99647</td>\n",
       "      <td>99647</td>\n",
       "      <td>61264</td>\n",
       "      <td>61264</td>\n",
       "      <td>99647</td>\n",
       "      <td>99647</td>\n",
       "      <td>99647</td>\n",
       "      <td>41530</td>\n",
       "      <td>98674</td>\n",
       "      <td>...</td>\n",
       "      <td>8</td>\n",
       "      <td>99647</td>\n",
       "      <td>99647</td>\n",
       "      <td>0</td>\n",
       "      <td>90108</td>\n",
       "      <td>0</td>\n",
       "      <td>571</td>\n",
       "      <td>99647</td>\n",
       "      <td>99647</td>\n",
       "      <td>99647</td>\n",
       "    </tr>\n",
       "    <tr>\n",
       "      <th>1</th>\n",
       "      <td>4823</td>\n",
       "      <td>4823</td>\n",
       "      <td>4823</td>\n",
       "      <td>3733</td>\n",
       "      <td>3733</td>\n",
       "      <td>4823</td>\n",
       "      <td>4823</td>\n",
       "      <td>4823</td>\n",
       "      <td>1676</td>\n",
       "      <td>4760</td>\n",
       "      <td>...</td>\n",
       "      <td>11</td>\n",
       "      <td>4823</td>\n",
       "      <td>4823</td>\n",
       "      <td>0</td>\n",
       "      <td>4715</td>\n",
       "      <td>0</td>\n",
       "      <td>1216</td>\n",
       "      <td>4823</td>\n",
       "      <td>4823</td>\n",
       "      <td>4823</td>\n",
       "    </tr>\n",
       "  </tbody>\n",
       "</table>\n",
       "<p>2 rows × 34 columns</p>\n",
       "</div>"
      ],
      "text/plain": [
       "           Employees  Pardot Score  Created Date (Month)  Account Name  \\\n",
       "Converted                                                                \n",
       "0              99647         99647                 99647         61264   \n",
       "1               4823          4823                  4823          3733   \n",
       "\n",
       "           Active   City  Country  Converted Opportunity ID  Industry  \\\n",
       "Converted                                                               \n",
       "0           61264  99647    99647                     99647     41530   \n",
       "1            3733   4823     4823                      4823      1676   \n",
       "\n",
       "           Lead Source  ...  SQL Date  Account Engagement Campaign  \\\n",
       "Converted               ...                                          \n",
       "0                98674  ...         8                        99647   \n",
       "1                 4760  ...        11                         4823   \n",
       "\n",
       "           Assign to RSD  Division  Department  Marketing Status  \\\n",
       "Converted                                                          \n",
       "0                  99647         0       90108                 0   \n",
       "1                   4823         0        4715                 0   \n",
       "\n",
       "           Partner Business Model Type  Assigned    MQL  Converted Time  \n",
       "Converted                                                                \n",
       "0                                  571     99647  99647           99647  \n",
       "1                                 1216      4823   4823            4823  \n",
       "\n",
       "[2 rows x 34 columns]"
      ]
     },
     "execution_count": 22,
     "metadata": {},
     "output_type": "execute_result"
    }
   ],
   "source": [
    "leads.groupby('Converted').count()"
   ]
  },
  {
   "cell_type": "code",
   "execution_count": 23,
   "id": "df11ee40-0510-4395-ae6c-37f656759873",
   "metadata": {
    "scrolled": true
   },
   "outputs": [],
   "source": [
    "#leads.drop(columns=[\"Name\",\"Lead Name\",\"Lead ID\",\"Lead Status\",\"Owner Name\",\"Converted Date (Quarter)\",\n",
    "#                    \"Converted Date (Month)\",\"Created Date (Quarter)\",\"Lead Assigned Date (Quarter)\",\n",
    "#                    \"Lead Priority Date (Quarter)\",\"Priority Date (Quarter)\",\"RFS Date/Time (Quarter)\",\n",
    "#                    \"SAL Date (Quarter)\",\"SQL Date (Quarter)\",\"Current Priority Date/Time (Quarter)\"], inplace= True)\n",
    "#leads.isna().sum()"
   ]
  },
  {
   "cell_type": "code",
   "execution_count": 24,
   "id": "c0b97827-659c-440f-a647-da7e1fe90b1a",
   "metadata": {
    "scrolled": true
   },
   "outputs": [
    {
     "name": "stdout",
     "output_type": "stream",
     "text": [
      "<class 'pandas.core.frame.DataFrame'>\n",
      "Index: 104470 entries, 15 to 290668\n",
      "Data columns (total 35 columns):\n",
      " #   Column                       Non-Null Count   Dtype   \n",
      "---  ------                       --------------   -----   \n",
      " 0   Employees                    104470 non-null  int64   \n",
      " 1   Pardot Score                 104470 non-null  int64   \n",
      " 2   Created Date (Month)         104470 non-null  int64   \n",
      " 3   Account Name                 64997 non-null   category\n",
      " 4   Active                       64997 non-null   category\n",
      " 5   City                         104470 non-null  category\n",
      " 6   Country                      104470 non-null  category\n",
      " 7   Converted Opportunity ID     104470 non-null  int32   \n",
      " 8   Converted                    104470 non-null  int32   \n",
      " 9   Industry                     43206 non-null   category\n",
      " 10  Lead Source                  103434 non-null  category\n",
      " 11  Lead Priority                104459 non-null  category\n",
      " 12  Name                         104470 non-null  category\n",
      " 13  Owner Name                   104470 non-null  category\n",
      " 14  Rating                       104470 non-null  category\n",
      " 15  Product Interest             56847 non-null   category\n",
      " 16  Subindustry                  31932 non-null   category\n",
      " 17  Territory                    99245 non-null   category\n",
      " 18  Title                        90688 non-null   category\n",
      " 19  User Type                    104470 non-null  category\n",
      " 20  ZI Company Name              15641 non-null   category\n",
      " 21  ZI Department                24343 non-null   category\n",
      " 22  Last Activity                104470 non-null  float64 \n",
      " 23  Last Modified Date           104470 non-null  int64   \n",
      " 24  Pardot Last Activity         16251 non-null   category\n",
      " 25  SQL Date                     19 non-null      category\n",
      " 26  Account Engagement Campaign  104470 non-null  category\n",
      " 27  Assign to RSD                104470 non-null  bool    \n",
      " 28  Division                     0 non-null       category\n",
      " 29  Department                   94823 non-null   category\n",
      " 30  Marketing Status             0 non-null       category\n",
      " 31  Partner Business Model Type  1787 non-null    category\n",
      " 32  Assigned                     104470 non-null  int32   \n",
      " 33  MQL                          104470 non-null  int32   \n",
      " 34  Converted Time               104470 non-null  float64 \n",
      "dtypes: bool(1), category(24), float64(2), int32(4), int64(4)\n",
      "memory usage: 13.6 MB\n"
     ]
    }
   ],
   "source": [
    "for column in leads.columns:\n",
    "    if leads[column].dtype == \"object\":\n",
    "         leads[column] = leads[column].astype('category')\n",
    "leads.info()"
   ]
  },
  {
   "cell_type": "code",
   "execution_count": 25,
   "id": "8054943c-564b-4c6b-af09-c49de7496e8c",
   "metadata": {},
   "outputs": [
    {
     "data": {
      "text/plain": [
       "(104470, 35)"
      ]
     },
     "execution_count": 25,
     "metadata": {},
     "output_type": "execute_result"
    }
   ],
   "source": [
    "leads.shape"
   ]
  },
  {
   "cell_type": "code",
   "execution_count": 26,
   "id": "40673386-0b11-42fa-81f7-f15d482146af",
   "metadata": {},
   "outputs": [],
   "source": [
    "from xgboost import XGBClassifier\n",
    "from xgboost import plot_importance\n",
    "# read data\n",
    "from sklearn.preprocessing import OneHotEncoder\n",
    "from sklearn.preprocessing import MinMaxScaler\n",
    "from sklearn.model_selection import train_test_split\n",
    "from sklearn.neural_network import MLPClassifier\n",
    "from sklearn.metrics import confusion_matrix, ConfusionMatrixDisplay\n",
    "from sklearn.metrics import f1_score"
   ]
  },
  {
   "cell_type": "code",
   "execution_count": 27,
   "id": "f42deffc-629e-4d18-b31d-cd2f8462e017",
   "metadata": {},
   "outputs": [
    {
     "data": {
      "text/plain": [
       "(104470, 33)"
      ]
     },
     "execution_count": 27,
     "metadata": {},
     "output_type": "execute_result"
    }
   ],
   "source": [
    "features = leads.drop(columns = ['Converted','Converted Opportunity ID'])\n",
    "features.shape"
   ]
  },
  {
   "cell_type": "code",
   "execution_count": 28,
   "id": "53c9ddcf-7b1f-4ea5-89d3-8aa3c5316d27",
   "metadata": {},
   "outputs": [
    {
     "data": {
      "text/plain": [
       "(104470, 1)"
      ]
     },
     "execution_count": 28,
     "metadata": {},
     "output_type": "execute_result"
    }
   ],
   "source": [
    "target = leads[['Converted']]\n",
    "target.shape"
   ]
  },
  {
   "cell_type": "code",
   "execution_count": 29,
   "id": "4714d4fb-88df-47d4-acb7-a497278b8362",
   "metadata": {},
   "outputs": [
    {
     "data": {
      "text/plain": [
       "0"
      ]
     },
     "execution_count": 29,
     "metadata": {},
     "output_type": "execute_result"
    }
   ],
   "source": [
    "target.shape[0]-features.shape[0]"
   ]
  },
  {
   "cell_type": "markdown",
   "id": "b5830fb1-8f4d-4d68-a78a-50db85c3fc35",
   "metadata": {},
   "source": [
    "## Training getting Train and test data"
   ]
  },
  {
   "cell_type": "code",
   "execution_count": 30,
   "id": "68a2c28e-5846-420a-b4d2-e7c1e6195e41",
   "metadata": {},
   "outputs": [
    {
     "name": "stdout",
     "output_type": "stream",
     "text": [
      "(83576, 33) (20894, 33)\n"
     ]
    }
   ],
   "source": [
    "X_train, X_test, y_train, y_test = train_test_split(features, target, test_size=.2)\n",
    "print(X_train.shape, X_test.shape)"
   ]
  },
  {
   "cell_type": "code",
   "execution_count": 31,
   "id": "2722b4a3-b1d0-4f90-8248-21ed69b3eee0",
   "metadata": {},
   "outputs": [],
   "source": [
    "evalset = [(X_train, y_train), (X_test,y_test)]"
   ]
  },
  {
   "cell_type": "code",
   "execution_count": 32,
   "id": "483f9fce-6170-4f5e-9580-1a474b7702b1",
   "metadata": {},
   "outputs": [
    {
     "name": "stdout",
     "output_type": "stream",
     "text": [
      "Ready\n"
     ]
    }
   ],
   "source": [
    "# create model instance\n",
    "bst = XGBClassifier(n_estimators=1000, max_depth=6, learning_rate=1, objective='binary:logistic',enable_categorical=True)\n",
    "print(\"Ready\")"
   ]
  },
  {
   "cell_type": "code",
   "execution_count": 33,
   "id": "ed8d365f-92a0-4b2b-8ff0-0db73d914dc1",
   "metadata": {
    "scrolled": true
   },
   "outputs": [
    {
     "name": "stderr",
     "output_type": "stream",
     "text": [
      "C:\\Users\\david.rodriguez\\AppData\\Local\\miniconda3\\Lib\\site-packages\\xgboost\\sklearn.py:889: UserWarning: `eval_metric` in `fit` method is deprecated for better compatibility with scikit-learn, use `eval_metric` in constructor or`set_params` instead.\n",
      "  warnings.warn(\n",
      "C:\\Users\\david.rodriguez\\AppData\\Local\\miniconda3\\Lib\\site-packages\\xgboost\\sklearn.py:889: UserWarning: `early_stopping_rounds` in `fit` method is deprecated for better compatibility with scikit-learn, use `early_stopping_rounds` in constructor or`set_params` instead.\n",
      "  warnings.warn(\n"
     ]
    },
    {
     "name": "stdout",
     "output_type": "stream",
     "text": [
      "[0]\tvalidation_0-auc:0.90970\tvalidation_1-auc:0.90667\n",
      "[1]\tvalidation_0-auc:0.99646\tvalidation_1-auc:0.99480\n",
      "[2]\tvalidation_0-auc:0.99823\tvalidation_1-auc:0.99673\n",
      "[3]\tvalidation_0-auc:0.99909\tvalidation_1-auc:0.99733\n",
      "[4]\tvalidation_0-auc:0.99977\tvalidation_1-auc:0.99744\n",
      "[5]\tvalidation_0-auc:0.99984\tvalidation_1-auc:0.99744\n",
      "[6]\tvalidation_0-auc:0.99998\tvalidation_1-auc:0.99773\n",
      "[7]\tvalidation_0-auc:0.99999\tvalidation_1-auc:0.99785\n",
      "[8]\tvalidation_0-auc:1.00000\tvalidation_1-auc:0.99803\n",
      "[9]\tvalidation_0-auc:1.00000\tvalidation_1-auc:0.99877\n",
      "[10]\tvalidation_0-auc:1.00000\tvalidation_1-auc:0.99863\n",
      "[11]\tvalidation_0-auc:1.00000\tvalidation_1-auc:0.99869\n",
      "[12]\tvalidation_0-auc:1.00000\tvalidation_1-auc:0.99885\n",
      "[13]\tvalidation_0-auc:1.00000\tvalidation_1-auc:0.99886\n",
      "[14]\tvalidation_0-auc:1.00000\tvalidation_1-auc:0.99885\n",
      "[15]\tvalidation_0-auc:1.00000\tvalidation_1-auc:0.99899\n",
      "[16]\tvalidation_0-auc:1.00000\tvalidation_1-auc:0.99914\n",
      "[17]\tvalidation_0-auc:1.00000\tvalidation_1-auc:0.99924\n",
      "[18]\tvalidation_0-auc:1.00000\tvalidation_1-auc:0.99937\n",
      "[19]\tvalidation_0-auc:1.00000\tvalidation_1-auc:0.99936\n",
      "[20]\tvalidation_0-auc:1.00000\tvalidation_1-auc:0.99950\n",
      "[21]\tvalidation_0-auc:1.00000\tvalidation_1-auc:0.99950\n",
      "[22]\tvalidation_0-auc:1.00000\tvalidation_1-auc:0.99953\n",
      "[23]\tvalidation_0-auc:1.00000\tvalidation_1-auc:0.99952\n",
      "[24]\tvalidation_0-auc:1.00000\tvalidation_1-auc:0.99951\n",
      "[25]\tvalidation_0-auc:1.00000\tvalidation_1-auc:0.99954\n",
      "[26]\tvalidation_0-auc:1.00000\tvalidation_1-auc:0.99953\n",
      "[27]\tvalidation_0-auc:1.00000\tvalidation_1-auc:0.99958\n",
      "[28]\tvalidation_0-auc:1.00000\tvalidation_1-auc:0.99957\n",
      "[29]\tvalidation_0-auc:1.00000\tvalidation_1-auc:0.99959\n",
      "[30]\tvalidation_0-auc:1.00000\tvalidation_1-auc:0.99959\n",
      "[31]\tvalidation_0-auc:1.00000\tvalidation_1-auc:0.99960\n",
      "[32]\tvalidation_0-auc:1.00000\tvalidation_1-auc:0.99958\n",
      "[33]\tvalidation_0-auc:1.00000\tvalidation_1-auc:0.99960\n",
      "[34]\tvalidation_0-auc:1.00000\tvalidation_1-auc:0.99961\n",
      "[35]\tvalidation_0-auc:1.00000\tvalidation_1-auc:0.99963\n",
      "[36]\tvalidation_0-auc:1.00000\tvalidation_1-auc:0.99962\n",
      "[37]\tvalidation_0-auc:1.00000\tvalidation_1-auc:0.99964\n",
      "[38]\tvalidation_0-auc:1.00000\tvalidation_1-auc:0.99963\n",
      "[39]\tvalidation_0-auc:1.00000\tvalidation_1-auc:0.99964\n",
      "[40]\tvalidation_0-auc:1.00000\tvalidation_1-auc:0.99964\n",
      "[41]\tvalidation_0-auc:1.00000\tvalidation_1-auc:0.99966\n",
      "[42]\tvalidation_0-auc:1.00000\tvalidation_1-auc:0.99967\n",
      "[43]\tvalidation_0-auc:1.00000\tvalidation_1-auc:0.99967\n",
      "[44]\tvalidation_0-auc:1.00000\tvalidation_1-auc:0.99968\n",
      "[45]\tvalidation_0-auc:1.00000\tvalidation_1-auc:0.99966\n",
      "[46]\tvalidation_0-auc:1.00000\tvalidation_1-auc:0.99967\n",
      "[47]\tvalidation_0-auc:1.00000\tvalidation_1-auc:0.99967\n",
      "[48]\tvalidation_0-auc:1.00000\tvalidation_1-auc:0.99967\n",
      "[49]\tvalidation_0-auc:1.00000\tvalidation_1-auc:0.99965\n",
      "[50]\tvalidation_0-auc:1.00000\tvalidation_1-auc:0.99964\n",
      "[51]\tvalidation_0-auc:1.00000\tvalidation_1-auc:0.99963\n",
      "[52]\tvalidation_0-auc:1.00000\tvalidation_1-auc:0.99963\n",
      "[53]\tvalidation_0-auc:1.00000\tvalidation_1-auc:0.99964\n"
     ]
    },
    {
     "data": {
      "text/plain": [
       "array([0, 0, 0, ..., 0, 0, 0])"
      ]
     },
     "execution_count": 33,
     "metadata": {},
     "output_type": "execute_result"
    }
   ],
   "source": [
    "# fit model\n",
    "bst.fit(X_train, y_train, eval_metric='auc', eval_set=evalset, early_stopping_rounds=10)\n",
    "# make predictions\n",
    "predictions = bst.predict(X_test)\n",
    "predictions"
   ]
  },
  {
   "cell_type": "code",
   "execution_count": 34,
   "id": "9604f444-fbe5-4bf1-b031-5f165ef88175",
   "metadata": {},
   "outputs": [
    {
     "data": {
      "text/plain": [
       "array([0, 0, 0, ..., 0, 0, 0])"
      ]
     },
     "execution_count": 34,
     "metadata": {},
     "output_type": "execute_result"
    }
   ],
   "source": [
    "actual = y_test[\"Converted\"].values\n",
    "actual"
   ]
  },
  {
   "cell_type": "code",
   "execution_count": 35,
   "id": "f401c51b-95c0-4566-b942-ed73705c00f6",
   "metadata": {},
   "outputs": [
    {
     "data": {
      "text/plain": [
       "(20894, 20894)"
      ]
     },
     "execution_count": 35,
     "metadata": {},
     "output_type": "execute_result"
    }
   ],
   "source": [
    "len(predictions), len(actual)"
   ]
  },
  {
   "cell_type": "code",
   "execution_count": 36,
   "id": "d62c96b8-3a1f-4af5-ad3e-a4b9a092fe5e",
   "metadata": {},
   "outputs": [
    {
     "data": {
      "text/plain": [
       "0.9992342299224658"
      ]
     },
     "execution_count": 36,
     "metadata": {},
     "output_type": "execute_result"
    }
   ],
   "source": [
    "score = accuracy_score(y_test, predictions)\n",
    "score"
   ]
  },
  {
   "cell_type": "code",
   "execution_count": 37,
   "id": "1a3adc7b-a1fa-4b16-89db-7c3a836d0301",
   "metadata": {},
   "outputs": [
    {
     "data": {
      "text/plain": [
       "(20878, 16)"
      ]
     },
     "execution_count": 37,
     "metadata": {},
     "output_type": "execute_result"
    }
   ],
   "source": [
    "correct =0\n",
    "wrong =0\n",
    "for i in range(len(predictions)):\n",
    "    if predictions[i] == actual[i]:\n",
    "        correct += 1\n",
    "    else:\n",
    "        wrong += 1\n",
    "correct, wrong"
   ]
  },
  {
   "cell_type": "code",
   "execution_count": 38,
   "id": "1f1558b2-291a-4fd6-bd75-be5a84a4a0d2",
   "metadata": {},
   "outputs": [
    {
     "data": {
      "text/plain": [
       "0.9992342299224658"
      ]
     },
     "execution_count": 38,
     "metadata": {},
     "output_type": "execute_result"
    }
   ],
   "source": [
    "# Accuaracy = Correct/ All Predictions\n",
    "correct/(correct+ wrong)"
   ]
  },
  {
   "cell_type": "code",
   "execution_count": 39,
   "id": "2fa8c220-d828-4826-a830-0ea3e4908850",
   "metadata": {},
   "outputs": [],
   "source": [
    "# retrieve performance metrics\n",
    "results = bst.evals_result()"
   ]
  },
  {
   "cell_type": "code",
   "execution_count": 40,
   "id": "d8fad74d-6828-4e96-80cc-b47621d726d1",
   "metadata": {},
   "outputs": [
    {
     "data": {
      "image/png": "[encoded data removed]",
      "text/plain": [
       "<Figure size 640x480 with 1 Axes>"
      ]
     },
     "metadata": {},
     "output_type": "display_data"
    }
   ],
   "source": [
    "# plot learning curves\n",
    "plt.plot(results['validation_0']['auc'], label='train')\n",
    "plt.plot(results['validation_1']['auc'], label='test')\n",
    "# show the legend\n",
    "plt.legend()\n",
    "# show the plot\n",
    "plt.show()"
   ]
  },
  {
   "cell_type": "code",
   "execution_count": 41,
   "id": "8e4c2974-db6e-4177-8973-f1fa0f1cd5a0",
   "metadata": {},
   "outputs": [
    {
     "name": "stdout",
     "output_type": "stream",
     "text": [
      "[6.9752487e-04 1.1981752e-03 1.0341309e-03 5.8733875e-01 1.1807764e-03\n",
      " 1.6896781e-02 7.0676010e-04 1.6079867e-03 2.1460534e-03 9.5740482e-02\n",
      " 0.0000000e+00 3.7505683e-03 0.0000000e+00 1.7802250e-03 1.2928228e-02\n",
      " 7.0891454e-04 0.0000000e+00 0.0000000e+00 0.0000000e+00 4.6630390e-04\n",
      " 9.4175264e-02 1.3420045e-03 0.0000000e+00 0.0000000e+00 7.4163377e-02\n",
      " 0.0000000e+00 0.0000000e+00 0.0000000e+00 0.0000000e+00 4.5603048e-03\n",
      " 1.2411091e-04 0.0000000e+00 9.7453296e-02]\n"
     ]
    }
   ],
   "source": [
    "print(bst.feature_importances_)"
   ]
  },
  {
   "cell_type": "code",
   "execution_count": 42,
   "id": "ef11616b-2419-4635-8888-897eb9594abb",
   "metadata": {},
   "outputs": [
    {
     "data": {
      "image/png": "[encoded data removed]",
      "text/plain": [
       "<Figure size 640x480 with 1 Axes>"
      ]
     },
     "metadata": {},
     "output_type": "display_data"
    }
   ],
   "source": [
    "# plot\n",
    "plt.bar(range(len(bst.feature_importances_)), bst.feature_importances_)\n",
    "plt.xticks(ticks=range(len(bst.feature_importances_)), labels=features.columns, rotation=90)\n",
    "plt.show()"
   ]
  },
  {
   "cell_type": "code",
   "execution_count": 43,
   "id": "37acbc3e-4d7e-4254-b0ee-8959c3d9a8a5",
   "metadata": {},
   "outputs": [
    {
     "data": {
      "image/png": "[encoded data removed]",
      "text/plain": [
       "<Figure size 640x480 with 1 Axes>"
      ]
     },
     "metadata": {},
     "output_type": "display_data"
    }
   ],
   "source": [
    "plot_importance(bst, max_num_features=20)\n",
    "plt.show()"
   ]
  },
  {
   "cell_type": "code",
   "execution_count": 44,
   "id": "606fedae-7d70-4c3a-9e8c-2188fa01d646",
   "metadata": {},
   "outputs": [
    {
     "data": {
      "text/plain": [
       "<sklearn.metrics._plot.confusion_matrix.ConfusionMatrixDisplay at 0x1e6645a9280>"
      ]
     },
     "execution_count": 44,
     "metadata": {},
     "output_type": "execute_result"
    },
    {
     "data": {
      "image/png": "[encoded data removed]",
      "text/plain": [
       "<Figure size 640x480 with 2 Axes>"
      ]
     },
     "metadata": {},
     "output_type": "display_data"
    }
   ],
   "source": [
    "cm = confusion_matrix(y_test, predictions, labels=bst.classes_)\n",
    "disp = ConfusionMatrixDisplay(confusion_matrix=cm, display_labels=bst.classes_)\n",
    "disp.plot()\n",
    "# plt.show()"
   ]
  },
  {
   "cell_type": "code",
   "execution_count": 45,
   "id": "9c76a1ae-703b-445b-a898-f6272dc1d239",
   "metadata": {},
   "outputs": [],
   "source": [
    "from sklearn.metrics import precision_score"
   ]
  },
  {
   "cell_type": "code",
   "execution_count": 46,
   "id": "7e53306d-85b1-4990-a3b0-3be10edf2ba0",
   "metadata": {},
   "outputs": [
    {
     "name": "stdout",
     "output_type": "stream",
     "text": [
      "Precision: 0.9958592132505176\n"
     ]
    }
   ],
   "source": [
    "precision = precision_score(y_test, predictions)\n",
    "print(f'Precision: {precision}')"
   ]
  }
 ],
 "metadata": {
  "kernelspec": {
   "display_name": "Python 3 (ipykernel)",
   "language": "python",
   "name": "python3"
  },
  "language_info": {
   "codemirror_mode": {
    "name": "ipython",
    "version": 3
   },
   "file_extension": ".py",
   "mimetype": "text/x-python",
   "name": "python",
   "nbconvert_exporter": "python",
   "pygments_lexer": "ipython3",
   "version": "3.12.3"
  }
 },
 "nbformat": 4,
 "nbformat_minor": 5
}
